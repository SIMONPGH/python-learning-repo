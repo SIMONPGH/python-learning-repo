{
 "cells": [
  {
   "cell_type": "code",
   "execution_count": 1,
   "id": "048217ee",
   "metadata": {},
   "outputs": [
    {
     "name": "stdout",
     "output_type": "stream",
     "text": [
      "3\n"
     ]
    }
   ],
   "source": [
    "x = 1\n",
    "y = 2\n",
    "z = x + y\n",
    "print (z)"
   ]
  },
  {
   "cell_type": "code",
   "execution_count": 1,
   "id": "188bd5fc",
   "metadata": {},
   "outputs": [
    {
     "data": {
      "text/plain": [
       "50"
      ]
     },
     "execution_count": 1,
     "metadata": {},
     "output_type": "execute_result"
    }
   ],
   "source": [
    "area = 5 * 10\n",
    "area"
   ]
  },
  {
   "cell_type": "code",
   "execution_count": 2,
   "id": "637dce18",
   "metadata": {},
   "outputs": [
    {
     "data": {
      "text/plain": [
       "' I'"
      ]
     },
     "execution_count": 2,
     "metadata": {},
     "output_type": "execute_result"
    }
   ],
   "source": [
    "s1 =\"HI, I AM SIMON\"\n",
    "s2=s1[3:5]\n",
    "s2\n"
   ]
  },
  {
   "cell_type": "code",
   "execution_count": 7,
   "id": "8a8c7648",
   "metadata": {},
   "outputs": [
    {
     "name": "stdout",
     "output_type": "stream",
     "text": [
      "dog\n",
      "cat\n",
      "racoon\n"
     ]
    }
   ],
   "source": [
    "phrase3 = \"dog cat racoon\"\n",
    "d=phrase3[:3]\n",
    "c=phrase3[4:7]\n",
    "r=phrase3[8:]\n",
    "print(d)\n",
    "print(c)\n",
    "print(r)\n"
   ]
  },
  {
   "cell_type": "code",
   "execution_count": 2,
   "id": "b2166e79",
   "metadata": {},
   "outputs": [
    {
     "data": {
      "text/plain": [
       "'0123456789'"
      ]
     },
     "execution_count": 2,
     "metadata": {},
     "output_type": "execute_result"
    }
   ],
   "source": [
    "#Write a list which contains:\n",
    "#a float, an integer, a string, and another list which itself contains strings\n",
    "#use the square bracket notation to slice out and print the last string from the\n",
    "#list inside the list (try and do it using a minus rather than a normal number)\n",
    "list_1 =[9.0, 9, \"0123456789\"]\n",
    "list_1\n",
    "list_1[-1]"
   ]
  },
  {
   "cell_type": "markdown",
   "id": "7a53e1ff",
   "metadata": {},
   "source": [
    "\n"
   ]
  },
  {
   "cell_type": "code",
   "execution_count": 5,
   "id": "a67e8aaf",
   "metadata": {},
   "outputs": [
    {
     "data": {
      "text/plain": [
       "['sugar', 'tea', 'milk', 'cereal', 'bread', 'pasta']"
      ]
     },
     "execution_count": 5,
     "metadata": {},
     "output_type": "execute_result"
    }
   ],
   "source": [
    "#In this cell, make a list of a few foods and print it.\n",
    "#Then append the list with another food and print it.\n",
    "#Next, make another list of foods, and use the extend method to\n",
    "#add those extra foods as individual elements of the list, and print it.\n",
    "#inally, remove and element from the list and print the final list.\n",
    "#Remember to always use a suitable name for your lists!\n",
    "\n",
    "foods = [\"sugar\",\"tea\",\"milk\"]\n",
    "carbs = [\"cereal\",\"bread\",\"pasta\"]\n",
    "foods.append(carbs)\n",
    "foods.remove(carbs)\n",
    "foods.extend(carbs)\n",
    "foods"
   ]
  },
  {
   "cell_type": "code",
   "execution_count": 14,
   "id": "c4a6f8e7",
   "metadata": {},
   "outputs": [
    {
     "data": {
      "text/plain": [
       "'Green Salad'"
      ]
     },
     "execution_count": 14,
     "metadata": {},
     "output_type": "execute_result"
    }
   ],
   "source": [
    "starter = \"Green Salad\"\n",
    "mains = {\"fish\" : [\"cod\", \"plaice\"], \n",
    "         \"vegan\" : [\"Nut Roast\" , \n",
    "                    \"veggie burger\"]}\n",
    "desserts = [\"ice cream\", \"choc\"]\n",
    "menu1 = {\"starter\" : starter, \"mains\" : mains, \"desserts\" : desserts}\n",
    "\n",
    "menu1[\"Drinks\"] = [\"Beer\", \"Wine\", \"Soft Drinks\"]\n",
    "\n",
    "menu1[\"starter\"]\n",
    "\n",
    "\n",
    "         "
   ]
  }
 ],
 "metadata": {
  "kernelspec": {
   "display_name": ".venv",
   "language": "python",
   "name": "python3"
  },
  "language_info": {
   "codemirror_mode": {
    "name": "ipython",
    "version": 3
   },
   "file_extension": ".py",
   "mimetype": "text/x-python",
   "name": "python",
   "nbconvert_exporter": "python",
   "pygments_lexer": "ipython3",
   "version": "3.12.1"
  }
 },
 "nbformat": 4,
 "nbformat_minor": 5
}
